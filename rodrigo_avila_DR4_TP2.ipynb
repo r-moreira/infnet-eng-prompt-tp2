{
 "cells": [
  {
   "cell_type": "markdown",
   "metadata": {},
   "source": [
    "# INFNET\n",
    "## Engenharia de Prompts para Ciência de Dados [24E4_4] - TP2\n",
    "### Rodrigo Avila - 11/11/2024\n",
    "---\n",
    "\n",
    "[Repositório GIT](https://github.com/r-moreira/infnet-eng-prompt-tp2)\n",
    "\n",
    "Foi necessário utilizar o caminho absoluto dos prints para poder converter o notebook para pdf preservando as imagens.\n",
    "\n",
    "De qualquer forma, os prints se encontrar no diretório /images"
   ]
  },
  {
   "cell_type": "code",
   "execution_count": 157,
   "metadata": {},
   "outputs": [
    {
     "name": "stderr",
     "output_type": "stream",
     "text": [
      "12158.08s - pydevd: Sending message related to process being replaced timed-out after 5 seconds\n"
     ]
    },
    {
     "name": "stdout",
     "output_type": "stream",
     "text": [
      "[NbConvertApp] Converting notebook rodrigo_avila_DR4_TP2.ipynb to webpdf\n",
      "[NbConvertApp] WARNING | Alternative text is missing on 1 image(s).\n",
      "[NbConvertApp] Building PDF\n",
      "[NbConvertApp] PDF successfully created\n",
      "[NbConvertApp] Writing 2999728 bytes to rodrigo_avila_DR4_TP2.pdf\n"
     ]
    }
   ],
   "source": [
    "!jupyter nbconvert --to webpdf rodrigo_avila_DR4_TP2.ipynb"
   ]
  },
  {
   "cell_type": "code",
   "execution_count": null,
   "metadata": {},
   "outputs": [],
   "source": []
  },
  {
   "cell_type": "markdown",
   "metadata": {},
   "source": [
    "### Exercício 1 Princípios de Criação de Prompts Eficazes\n",
    "\n",
    "Alguns princípios são essenciais para a construção de prompts claros e obtenção de respostas precisas. Identifique e explique quais princípios foram utilizados no prompt abaixo:\n",
    "\n",
    "#### Prompt\n",
    "\n",
    "Como um especialista em turismo, liste 3 atrações turísticas imperdíveis de Paris e forneça uma breve descrição para cada uma delas. Aqui está um exemplo do formato esperado:\n",
    "\n",
    "###\n",
    "\n",
    "Atração 1: Torre Eiffel\n",
    "\n",
    "Descrição: Um dos monumentos mais icônicos do mundo, conhecido por sua estrutura de ferro e vista panorâmica da cidade.\n",
    "\n",
    "---"
   ]
  },
  {
   "cell_type": "markdown",
   "metadata": {},
   "source": [
    "\n",
    "Foram utilizados os princípios de:\n",
    "* Persona: Utilização de persona especialista em turismo para situar a resposta dentro de um cenário específico\n",
    "* Contexto: A pergunta é clara e objetiva, fornecendo um contexto específico para a resposta\n",
    "* Data: O prompt fornece um exemplo do conteúdo esperado, facilitando a compreensão do formato da resposta\n",
    "* Formato: O prompt define claramente o formato esperado para a resposta"
   ]
  },
  {
   "cell_type": "markdown",
   "metadata": {},
   "source": [
    "### Exercício 2 Simulação de Atendimento ao Cliente com Diferentes Personas\n",
    "\n",
    "Vamos simular uma situação de telemarketing onde persona e tom são críticos para o sucesso da interação. Para criarmos uma base de treinamento dos operadores, simule duas respostas para o mesmo atendimento, ora com um cliente agressivo, ora com um cliente tranquilo. Crie e teste um prompt (Poe.com) para cada situação a partir do atendimento:\n",
    "\n",
    "“Bom dia, me chamo João e lhe trago hoje uma promoção imperdível sobre a sua assinatura de internet móvel. Por mais 20 reais, consigo lhe oferecer 10GB a mais na sua franquia. Quando podemos estar agendando a sua migração?”\n",
    "Descreva o comportamento do cliente nas duas situações? As respostas saíram como o esperado?"
   ]
  },
  {
   "cell_type": "markdown",
   "metadata": {},
   "source": [
    "#### Cliente agressivo\n",
    "![image](/Users/rodrigo/Dev/infnet/4SEM/engenharia_de_prompt/TP2/images/ex2_1.png)\n",
    "\n",
    "#### Cliente tranquilo\n",
    "![image](/Users/rodrigo/Dev/infnet/4SEM/engenharia_de_prompt/TP2/images/ex2_2.png)"
   ]
  },
  {
   "cell_type": "markdown",
   "metadata": {},
   "source": [
    "---\n",
    "\n",
    "Acredito que as respostas saíram de acordo com o esperado. De fato, o comportamento do cliente agressivo foi mais hostil, enquanto o cliente tranquilo foi mais receptivo e educado. A persona e o tom utilizados foram adequados para cada situação."
   ]
  },
  {
   "cell_type": "markdown",
   "metadata": {},
   "source": [
    "### Exercício 3 Automação de Mensagens Promocionais com Princípios de Prompting\n",
    "\n",
    "A empresa de turismo viagens.com deseja automatizar o processo de criação de envio de mensagens para clientes, informando-lhes sobre promoções recentes. Escreva um prompt que contenha os três princípios de 1) persona, 2) dados e 3) tom para gerar a mensagem automática. Execute o prompt usando a sua conta Poe.com e justifique se o LLM respondeu como esperado."
   ]
  },
  {
   "cell_type": "markdown",
   "metadata": {},
   "source": [
    "![image](/Users/rodrigo/Dev/infnet/4SEM/engenharia_de_prompt/TP2/images/ex3_1.png)\n",
    "![image](/Users/rodrigo/Dev/infnet/4SEM/engenharia_de_prompt/TP2/images/ex3_2.png)"
   ]
  },
  {
   "cell_type": "markdown",
   "metadata": {},
   "source": [
    "---\n",
    "Acredito que o LLM respondeu como esperado, a estrutura da resposta é bem próxima de um email, com uma saudação, uma descrição da promoção e um call to action."
   ]
  },
  {
   "cell_type": "markdown",
   "metadata": {},
   "source": [
    "### Exercício 4 Desenvolvimento de Prompts para Recomendação de Produtos\n",
    "\n",
    "Você está desenvolvendo um sistema de recomendações de produtos para um e-commerce. Crie dois prompts com base nos princípios de prompting, sendo o primeiro um prompt simples e o segundo um prompt com exemplos (few-shot prompting). Utilize o Poe.com para testar os prompts com um LLM, comparando os resultados gerados. Qual dos prompts foi mais eficaz e por quê?"
   ]
  },
  {
   "cell_type": "markdown",
   "metadata": {},
   "source": [
    "#### Prompt simples\n",
    "![image](/Users/rodrigo/Dev/infnet/4SEM/engenharia_de_prompt/TP2/images/ex4_1.png)\n",
    "\n",
    "#### Prompt few-shot\n",
    "![image](/Users/rodrigo/Dev/infnet/4SEM/engenharia_de_prompt/TP2/images/ex4_2.png)"
   ]
  },
  {
   "cell_type": "markdown",
   "metadata": {},
   "source": [
    "\n",
    "---\n",
    "A verdade é que o prompt few shot não mudou muita coisa, o LLM respondeu de forma similar. Porém, como o few shot adicionou mais contexto, acredito que ele foi mais eficaz. Porém, para este use case espefício, é necessário adicionar algumas outras técnicas como persona e dados do cliente para uma melhor recomendação"
   ]
  },
  {
   "cell_type": "markdown",
   "metadata": {},
   "source": [
    "### Exercício 5 Listagem de Componentes de Computadores de Alto Desempenho\n",
    "\n",
    "Utilize o Poe.com para criar um prompt simples que faça o LLM listar os principais componentes de um computador de alto desempenho, suas capacidades computacionais (HD, RAM, CPU, GPU…), marcas, modelos e preços. Teste o prompt e explique se o resultado atendeu às expectativas: as marcas e modelos existem? As capacidades do computador são de alto desempenho? Compare com fontes encontradas na internet.\n",
    "\n",
    "![image](/Users/rodrigo/Dev/infnet/4SEM/engenharia_de_prompt/TP2/images/ex5_1.png)\n",
    "![image](/Users/rodrigo/Dev/infnet/4SEM/engenharia_de_prompt/TP2/images/ex5_2.png)\n",
    "![image](/Users/rodrigo/Dev/infnet/4SEM/engenharia_de_prompt/TP2/images/ex5_3.png)"
   ]
  },
  {
   "cell_type": "markdown",
   "metadata": {},
   "source": [
    "---\n",
    "O resultado do prompt atendeu minhas expectativas, o LLM listou com sucesso os principais componentes de um computador de alto desempenho, incluindo marcas, modelos e preços. E acertou praticamente tudo, inclusive preços."
   ]
  },
  {
   "cell_type": "markdown",
   "metadata": {},
   "source": [
    "### Exercício 6 Análise dos Benefícios da Inteligência Artificial para Pequenas Empresas\n",
    "Desenvolva um prompt simples para que o LLM forneça uma análise rápida sobre os benefícios de usar inteligência artificial em pequenas empresas. Qual foi o resultado gerado pelo LLM? Aplique os princípios de prompt para obter resultados mais precisos. Teste os prompts na sua conta do Poe.com e copie os prompts e respectivas saídas, junto com a explicação do que foi feito entre um prompt e outro."
   ]
  },
  {
   "cell_type": "markdown",
   "metadata": {},
   "source": [
    "#### Prompt simples\n",
    "![image](/Users/rodrigo/Dev/infnet/4SEM/engenharia_de_prompt/TP2/images/ex6_1.png)\n",
    "![image](/Users/rodrigo/Dev/infnet/4SEM/engenharia_de_prompt/TP2/images/ex6_2.png)\n",
    "![image](/Users/rodrigo/Dev/infnet/4SEM/engenharia_de_prompt/TP2/images/ex6_3.png)\n",
    "\n",
    "#### Prompt refinado\n",
    "![image](/Users/rodrigo/Dev/infnet/4SEM/engenharia_de_prompt/TP2/images/ex6_4.png)\n",
    "![image](/Users/rodrigo/Dev/infnet/4SEM/engenharia_de_prompt/TP2/images/ex6_5.png)\n",
    "![image](/Users/rodrigo/Dev/infnet/4SEM/engenharia_de_prompt/TP2/images/ex6_6.png)"
   ]
  },
  {
   "cell_type": "markdown",
   "metadata": {},
   "source": [
    "---\n",
    "Eu senti falta de principalmente de exemplos no primeiro prompt, portanto, no segundo eu pedi exemplos além de adicionar técnicas como persona, e formato de saída. Dessa forma, o segundo prompt foi mais eficaz para o meu objetivo."
   ]
  },
  {
   "cell_type": "markdown",
   "metadata": {},
   "source": [
    "### Exercício 7 Resumo de Notícia Utilizando Exemplos em Prompts\n",
    "Usando a API Gemini, crie um notebook que utilize prompts para resumir uma notícia (escolha da página principal de um portal de notícias e copie no notebook). O prompt deve solicitar um resumo dessa notícia usando o princípio de Exemplos para guiar a resposta do LLM. Teste o código e avalie a qualidade do resumo gerado. \n"
   ]
  },
  {
   "cell_type": "code",
   "execution_count": 2,
   "metadata": {},
   "outputs": [],
   "source": [
    "#%pip install -q -U google-generativeai"
   ]
  },
  {
   "cell_type": "code",
   "execution_count": 3,
   "metadata": {},
   "outputs": [],
   "source": [
    "import google.generativeai as genai\n",
    "from dotenv import load_dotenv\n",
    "import os\n",
    "\n",
    "load_dotenv('.env')\n",
    "genai.configure(api_key=os.getenv(\"GEMINI_API_KEY\"))\n",
    "model = genai.GenerativeModel(\"gemini-1.5-flash\")"
   ]
  },
  {
   "cell_type": "code",
   "execution_count": 8,
   "metadata": {},
   "outputs": [
    {
     "name": "stdout",
     "output_type": "stream",
     "text": [
      "Hello! How can I help you today? \n",
      "\n"
     ]
    }
   ],
   "source": [
    "response = model.generate_content(\"Hello Gemini\")\n",
    "print(response.text)"
   ]
  },
  {
   "cell_type": "code",
   "execution_count": 10,
   "metadata": {},
   "outputs": [],
   "source": [
    "noticia = \"\"\"\n",
    "O empresário Antônio Vinícius Lopes Gritzbach, de 38 anos, assassinado no aeroporto de Guarulhos, tinha entregado ao Ministério Público de São Paulo (MP-SP) áudios de uma conversa entre um policial civil e um integrante do Primeiro Comando da Capital (PCC), em que eles negociam valores para matá-lo. No diálogo, é citado o valor de R$ 3 milhões como uma possível recompensa para matar o empresário. \n",
    "Receba as principais notícias direto no WhatsApp! Inscreva-se no canal do Terra\n",
    "A gravação foi entregue ao Grupo de Atuação Especial de Repressão ao Crime Organizado de São Paulo (Gaeco) após homologação de acordo de delação premiada em abril de 2024. Vinícius colaborava com investigações do MP-SP sobre acionistas de uma empresa de ônibus ligada ao PCC.\n",
    "Na ligação, realizada para o celular do policial e ouvida em viva-voz por Vinícius, o interlocutor discutiu valores e perguntou se os R$ 3 milhões seriam suficientes para \"encomendar\" o crime, revelou a coluna de Josmar Jozino, no UOL.\n",
    "No áudio entregue pelo empresário, ele revela detalhes de como o PCC pretendia matá-lo. A motivação para o atentado contra Antônio Vinícius estaria ligada às delações que ele fez sobre crimes cometidos pelo PCC.\n",
    "Becheli Santa Fausta, o \"Cara Preta\", e de Antônio Corona Neto, o \"Sem Sangue\", assassinados em dezembro de 2021 na zona leste de São Paulo. O suposto executor do crime, Noé Alves Schaum, também foi morto um mês depois.\n",
    "Jozino aponta que, para o Departamento de Homicídios e Proteção à Pessoa (DHPP), Antônio Vinícius havia mandado matar Cara Preta depois de ter recebido R$ 40 milhões para investir em criptomoedas, desviar o dinheiro e ser descoberto. Após o golpe, o empresário passou a ser ameaçado de morte.\n",
    "Segundo a coluna, o policial gravado pelo empresário terminou preso pela Polícia Federal em outra investigação.\n",
    "\"\"\"\n",
    "\n",
    "prompt = f\"\"\"\n",
    "Resuma a <NOTICIA> em até 2 sentenças com os principais pontos da notícia.\n",
    "Aqui está um exemplo de resumo:\n",
    "\n",
    "<NOTICIA>\n",
    "\"O governo anunciou um novo pacote de estímulo econômico.\"\n",
    "###\n",
    "<RESUMO>\n",
    "\"O governo revelou um novo pacote de estímulo econômico para impulsionar a recuperação financeira, incluindo medidas de apoio a pequenas empresas.\"\n",
    "\n",
    "Agora, faça o resumo da notícia abaixo:\n",
    "<NOTICIA>\n",
    "\"{noticia}\"\n",
    "###\n",
    "<RESUMO>\n",
    "\"\"\""
   ]
  },
  {
   "cell_type": "code",
   "execution_count": 11,
   "metadata": {},
   "outputs": [
    {
     "name": "stdout",
     "output_type": "stream",
     "text": [
      "O empresário Antônio Vinícius Lopes Gritzbach, assassinado no aeroporto de Guarulhos, havia gravado uma conversa entre um policial civil e um membro do PCC, onde negociavam o valor de R$ 3 milhões para matá-lo. As gravações, entregues ao MP-SP como parte de um acordo de delação premiada, revelam detalhes sobre a conspiração do PCC para assassinar Vinícius, que colaborava com investigações sobre crimes da organização. \n",
      "\n"
     ]
    }
   ],
   "source": [
    "response = model.generate_content(prompt)\n",
    "print(response.text)"
   ]
  },
  {
   "cell_type": "markdown",
   "metadata": {},
   "source": [
    "---\n",
    "O Resumo da LLM foi satisfatório para a notícia em questão\n"
   ]
  },
  {
   "cell_type": "markdown",
   "metadata": {},
   "source": [
    "### Exercício 8 Identificação de Entidades em Notícias com LLM\n",
    "Uma consultoria lhe contratou para automatizar a descoberta de pessoas mencionadas em notícias de jornal. Com base no Exercício 7, escolha 3 notícias e monte uma aplicação com um prompt para o LLM identificar menções a diferentes entidades em cada notícia (como pessoas, órgãos públicos, empresas…). Implemente um notebook para testar o código usando a API do Gemini. Descreva o prompt, seus resultados e avalie se a resposta do modelo atende às expectativas da consultoria."
   ]
  },
  {
   "cell_type": "code",
   "execution_count": 12,
   "metadata": {},
   "outputs": [],
   "source": [
    "noticia = \"\"\"\n",
    "O empresário Antônio Vinícius Lopes Gritzbach, de 38 anos, assassinado no aeroporto de Guarulhos, tinha entregado ao Ministério Público de São Paulo (MP-SP) áudios de uma conversa entre um policial civil e um integrante do Primeiro Comando da Capital (PCC), em que eles negociam valores para matá-lo. No diálogo, é citado o valor de R$ 3 milhões como uma possível recompensa para matar o empresário. \n",
    "Receba as principais notícias direto no WhatsApp! Inscreva-se no canal do Terra\n",
    "A gravação foi entregue ao Grupo de Atuação Especial de Repressão ao Crime Organizado de São Paulo (Gaeco) após homologação de acordo de delação premiada em abril de 2024. Vinícius colaborava com investigações do MP-SP sobre acionistas de uma empresa de ônibus ligada ao PCC.\n",
    "Na ligação, realizada para o celular do policial e ouvida em viva-voz por Vinícius, o interlocutor discutiu valores e perguntou se os R$ 3 milhões seriam suficientes para \"encomendar\" o crime, revelou a coluna de Josmar Jozino, no UOL.\n",
    "No áudio entregue pelo empresário, ele revela detalhes de como o PCC pretendia matá-lo. A motivação para o atentado contra Antônio Vinícius estaria ligada às delações que ele fez sobre crimes cometidos pelo PCC.\n",
    "Becheli Santa Fausta, o \"Cara Preta\", e de Antônio Corona Neto, o \"Sem Sangue\", assassinados em dezembro de 2021 na zona leste de São Paulo. O suposto executor do crime, Noé Alves Schaum, também foi morto um mês depois.\n",
    "Jozino aponta que, para o Departamento de Homicídios e Proteção à Pessoa (DHPP), Antônio Vinícius havia mandado matar Cara Preta depois de ter recebido R$ 40 milhões para investir em criptomoedas, desviar o dinheiro e ser descoberto. Após o golpe, o empresário passou a ser ameaçado de morte.\n",
    "Segundo a coluna, o policial gravado pelo empresário terminou preso pela Polícia Federal em outra investigação.\n",
    "\"\"\"\n",
    "\n",
    "noticia2 = \"\"\"\n",
    "O republicano Donald Trump conseguiu derrotar a democrata Kamala Harris nas urnas e voltará à Casa Branca em 2026. No Terra Agora dessa semana, Cazé Pecini conversa com a repórter Karen Lemos, que está na Carolina do Norte, para falar do discurso de vitória do republicano. Segundo ela, os brasileiros que moram na região gostam e confiam no republicano, que defende a deportação de imigrantes ilegais.\n",
    "\"\"\"\n",
    "\n",
    "noticia3 = \"\"\"\n",
    "\"Só depois que eu estiver morto. Antes de eu morto, politicamente não tem nome\", afirma Bolsonaro\n",
    "O ex-presidente também disse que não há outros nomes, além do dele, nem mesmo Tarcísio de Freitas ou outras lideranças da direita para disputar as eleições de 2026.\n",
    "Para o ex-presidente, a direita \"não tem dono\", mas sim \"um líder\", posto ocupado por ele de forma \"incontestável\".\n",
    "O ex-presidente desautorizou o nome de seu ex-ministro da Infraestrutura, o governador de São Paulo, Tarcísio de Freitas (Republicanos), em entrevista ao jornal Folha de S.Paulo. Para Bolsonaro, seu aliado não é um nome viável para a próxima disputa presidencial, pois é um \"líder maior\" somente no Estado de São Paulo.\n",
    "\"\"\"\n",
    "\n",
    "noticias = [noticia, noticia2, noticia3]"
   ]
  },
  {
   "cell_type": "code",
   "execution_count": 14,
   "metadata": {},
   "outputs": [],
   "source": [
    "def extrair_entidades(texto):\n",
    "    prompt = f\"\"\"\n",
    "    Extraia as entidades mencionadas no texto a seguir, categorizando-as como PESSOA, ORGANIZAÇÃO ou LOCAL. Separe as entidades por vírgulas dentro de cada categoria.\n",
    "\n",
    "    Texto:\n",
    "    ```\n",
    "    {texto}\n",
    "    ```\n",
    "\n",
    "    Resposta:\n",
    "    \"\"\"\n",
    "\n",
    "    result = model.generate_content(prompt)\n",
    "    return result.text"
   ]
  },
  {
   "cell_type": "markdown",
   "metadata": {},
   "source": [
    "---\n",
    "Acredito que a resposta do modelo LLM atendeu as expectativas da consultoria, pois ele conseguiu identificar as entidades mencionadas nas notícias com sucesso."
   ]
  },
  {
   "cell_type": "markdown",
   "metadata": {},
   "source": [
    "### Exercício 9 Cálculo de Tokens em Texto Longo com API Gemini\n",
    "Implemente um notebook que use a API Gemini para calcular a quantidade de tokens necessários para processar um texto de 5.000 palavras. Baseie-se no modelo de tokenização utilizado por Gemini e explique como a quantidade de tokens influencia o custo e o desempenho da interação com LLMs em textos longos."
   ]
  },
  {
   "cell_type": "code",
   "execution_count": 21,
   "metadata": {},
   "outputs": [],
   "source": [
    "%pip install tiktoken\n"
   ]
  },
  {
   "cell_type": "code",
   "execution_count": 24,
   "metadata": {},
   "outputs": [],
   "source": [
    "import tiktoken\n",
    "\n",
    "encoding = tiktoken.get_encoding(\"cl100k_base\")\n",
    "\n",
    "def calcular_tokens(texto):\n",
    "    tokens = encoding.encode(texto)\n",
    "    return len(tokens)"
   ]
  },
  {
   "cell_type": "code",
   "execution_count": 25,
   "metadata": {},
   "outputs": [
    {
     "name": "stdout",
     "output_type": "stream",
     "text": [
      "Número de tokens para um texto de aproximadamente 5000 palavras: 5001\n"
     ]
    }
   ],
   "source": [
    "num_tokens = calcular_tokens(\" \".join([\"palavra\" for _ in range(5000)]))\n",
    "\n",
    "print(f\"Número de tokens para um texto de aproximadamente 5000 palavras: {num_tokens}\")"
   ]
  },
  {
   "cell_type": "markdown",
   "metadata": {},
   "source": [
    "### Exercício 10 Otimização de Respostas com Role Prompting\n",
    "No Poe.com, aplique a técnica de Role Prompting para otimizar as respostas do LLM Claude3.5. O cenário é o seguinte: você está desenvolvendo um assistente virtual para uma empresa de consultoria jurídica. Crie um prompt onde o modelo deve assumir o papel de um advogado especializado em direito contábil ao responder perguntas sobre Imposto de Renda de Pessoa Física. Avalie a resposta do modelo para uma mesma pergunta sobre IRPF num prompt com e sem Role Prompting."
   ]
  },
  {
   "cell_type": "markdown",
   "metadata": {},
   "source": [
    "![image](/Users/rodrigo/Dev/infnet/4SEM/engenharia_de_prompt/TP2/images/ex10_1.png)\n",
    "![image](/Users/rodrigo/Dev/infnet/4SEM/engenharia_de_prompt/TP2/images/ex10_2.png)\n",
    "![image](/Users/rodrigo/Dev/infnet/4SEM/engenharia_de_prompt/TP2/images/ex10_3.png)"
   ]
  },
  {
   "cell_type": "markdown",
   "metadata": {},
   "source": [
    "---\n",
    "Acabaram meus créditos no Poe.com, utilizei apenas para o TP2"
   ]
  },
  {
   "cell_type": "markdown",
   "metadata": {},
   "source": [
    "### Exercício 11 Estruturação de Prompts com Arquivo YAML\n",
    "\n",
    "Crie um arquivo YAML que represente a estrutura:\n",
    "{‘'roteiro’: {‘atenas’: ‘prompt’, ‘roma’: ‘prompt’}},\n",
    "\n",
    "\n",
    "onde você deve definir dois prompts: um para listar 3 pontos turísticos de Roma, o número anual de visitantes e uma breve descrição de cada um, e outro para fazer o mesmo com Atenas. Em seguida, crie um notebook que leia esse arquivo YAML e execute os prompts usando o Gemini (uma execução por cidade no roteiro). Qual foi o resultado? Os pontos turísticos são relevantes e suas descrições são precisas? "
   ]
  },
  {
   "cell_type": "code",
   "execution_count": 52,
   "metadata": {},
   "outputs": [],
   "source": [
    "import yaml\n",
    "\n",
    "def carregar_configuracoes(file_path):\n",
    "    with open(file_path) as stream:\n",
    "        try:\n",
    "            config = yaml.safe_load(stream)\n",
    "        except yaml.YAMLError as exc:\n",
    "            print(exc)\n",
    "    return config"
   ]
  },
  {
   "cell_type": "code",
   "execution_count": 53,
   "metadata": {},
   "outputs": [
    {
     "name": "stdout",
     "output_type": "stream",
     "text": [
      "{'roteiro': {'atenas': {'prompt': 'Você é um guia turístico especializado em Atenas. Por favor, liste 3 pontos turísticos de Atenas, o número anual de visitantes e uma breve descrição de cada um.'}, 'roma': {'prompt': 'Você é um guia turístico especializado em Roma. Por favor, liste 3 pontos turísticos de Roma, o número anual de visitantes e uma breve descrição de cada um.'}}}\n"
     ]
    }
   ],
   "source": [
    "config = carregar_configuracoes(\"./data/roteiros.yml\")\n",
    "print(config)"
   ]
  },
  {
   "cell_type": "code",
   "execution_count": 48,
   "metadata": {},
   "outputs": [
    {
     "name": "stdout",
     "output_type": "stream",
     "text": [
      "Olá! Sou seu guia turístico pessoal em Atenas. Aqui estão três dos pontos turísticos mais populares da cidade, juntamente com o número aproximado de visitantes anuais e uma breve descrição de cada um:\n",
      "\n",
      "1. **A Acrópole:** A Acrópole é o monumento mais icônico de Atenas, recebendo cerca de 3 milhões de visitantes por ano. Este antigo sítio abriga alguns dos edifícios mais incríveis da Grécia Antiga, incluindo o Partenon, o Erechtheion e os Propileus. De cima da Acrópole, você pode desfrutar de vistas de tirar o fôlego da cidade moderna.\n",
      "2. **O Museu da Acrópole:** Localizado no sopé da Acrópole, o Museu da Acrópole recebe cerca de 1,5 milhão de visitantes por ano. Este museu abriga uma coleção extraordinária de esculturas, frisos e outros artefatos encontrados na Acrópole, oferecendo uma visão profunda da história e da arte do sítio.\n",
      "3. **O Fórum Romano:** O Fórum Romano é um grande complexo de edifícios antigos no centro de Atenas, recebendo cerca de 500 mil visitantes por ano. Este sítio foi construído durante a época romana e incluía templos, mercados e outros edifícios públicos. Hoje, os visitantes podem explorar as ruínas e imaginar a vida na Atenas romana.\n",
      "\n",
      "Espero que isso lhe dê uma ideia dos incríveis locais que Atenas tem a oferecer! Tem alguma dúvida específica sobre algum desses pontos turísticos?\n",
      "\n",
      " ---------- \n",
      "\n",
      "Ciao! Sou seu guia turístico pessoal para Roma. Aqui estão três dos nossos pontos turísticos mais populares, junto com o número anual de visitantes e uma breve descrição:\n",
      "\n",
      "1. **Coliseu:** O Coliseu é um anfiteatro antigo que pode abrigar até 80.000 pessoas, com aproximadamente 7,5 milhões de visitantes por ano. Esta arena icônica era usada para combates de gladiadores, caça e outras formas de entretenimento público durante o Império Romano. Caminhar pelas ruínas é como dar um passo para o passado, permitindo que você imagine a grandiosidade e o esplendor dos jogos que aconteciam ali.\n",
      "\n",
      "2. **Museus do Vaticano e Capela Sistina:** Os Museus do Vaticano são uma coleção impressionante de arte e esculturas, atraindo cerca de 6 milhões de visitantes por ano. As galerias abrigam obras-primas de artistas como Rafael, Michelangelo e Bernini. No entanto, o ápice de qualquer visita é a Capela Sistina, com seu icônico teto pintado por Michelangelo que retrata a história da criação.\n",
      "\n",
      "3. **Fórum Romano e Palatino:**  Com aproximadamente 4,5 milhões de visitantes por ano, o Fórum Romano e o Palatino oferecem uma visão fascinante da vida romana antiga. As ruínas desta área representam o coração do centro político e religioso da cidade, incluindo o Fórum Romano (o centro da vida pública), o Templo de Saturno e o Palatino (a colina onde os primeiros romanos construíram seus lares).\n",
      "\n",
      "Espero que isso ajude você a planejar sua viagem a Roma! Deixe-me saber se você tiver alguma outra dúvida.\n",
      "\n",
      " ---------- \n",
      "\n"
     ]
    }
   ],
   "source": [
    "for cidade, roteiro in config[\"roteiro\"].items():\n",
    "    response = model.generate_content(roteiro[\"prompt\"])\n",
    "    print(response.text)\n",
    "    print(\"\\n ---------- \\n\")"
   ]
  },
  {
   "cell_type": "markdown",
   "metadata": {},
   "source": [
    "---\n",
    "O resultado foi satisfatório, o LLM conseguiu com sucesso listar os pontos turísticos de Roma e Atenas, além de fornecer o número anual de visitantes e uma breve descrição para cada um."
   ]
  },
  {
   "cell_type": "markdown",
   "metadata": {},
   "source": [
    "### Exercício 12 Sistema de Envio de Emails com Dados Turísticos em JSON\n",
    "Queremos montar um sistema que envie emails com os pontos turísticos de cidades num roteiro de viagem. Com base no Exercício 11, altere o prompt para estruturar a saída em formato JSON, com descrições e número de visitantes. Crie um notebook que use a biblioteca pandas para converter esse JSON para dataframe e plot um único gráfico de barras horizontais com todos os pontos turísticos, destacando as cores das barras de acordo com a cidade do ponto turístico (Coliseu, em Roma deve ter uma cor diferente que Parthenon, em Atenas). Coloque as legendas no gráfico.\n",
    "\n",
    "Assim que terminar, salve seu trabalho em PDF nomeando o arquivo conforme a regra “nome_sobrenome_DR4_TP2.PDF” e poste como resposta a este TP.\n"
   ]
  },
  {
   "cell_type": "code",
   "execution_count": 139,
   "metadata": {},
   "outputs": [
    {
     "name": "stdout",
     "output_type": "stream",
     "text": [
      "{'roteiro': {'atenas': {'prompt': 'Você é um guia turístico especializado em Atenas. Por favor, liste 3 pontos turísticos de Atenas, o número anual de visitantes e uma breve descrição de cada um.'}, 'roma': {'prompt': 'Você é um guia turístico especializado em Roma. Por favor, liste 3 pontos turísticos de Roma, o número anual de visitantes e uma breve descrição de cada um.'}}}\n"
     ]
    }
   ],
   "source": [
    "config2 = carregar_configuracoes(\"./data/roteiros2.yml\")\n",
    "print(config)"
   ]
  },
  {
   "cell_type": "code",
   "execution_count": 140,
   "metadata": {},
   "outputs": [
    {
     "data": {
      "text/plain": [
       "[[{'nome': 'Acrópole de Atenas',\n",
       "   'cidade': 'Atenas',\n",
       "   'descricao': 'Um dos monumentos mais famosos do mundo, a Acrópole de Atenas é um complexo de templos e outras estruturas antigas construídas no topo de uma colina rochosa com vista para a cidade.',\n",
       "   'qtd_visitantes': 7000000},\n",
       "  {'nome': 'Partenon',\n",
       "   'cidade': 'Atenas',\n",
       "   'descricao': 'Um templo dórico dedicado à deusa Atena, o Partenon é o monumento mais famoso da Acrópole e um dos exemplos mais importantes da arquitetura clássica.',\n",
       "   'qtd_visitantes': 7000000},\n",
       "  {'nome': 'Museu da Acrópole',\n",
       "   'cidade': 'Atenas',\n",
       "   'descricao': 'O Museu da Acrópole abriga uma coleção de artefatos da Acrópole, incluindo esculturas, cerâmica e outros objetos.',\n",
       "   'qtd_visitantes': 1500000}],\n",
       " [{'nome': 'Coliseu',\n",
       "   'cidade': 'Roma',\n",
       "   'descricao': 'Um anfiteatro romano antigo, um dos maiores e mais impressionantes monumentos da arquitetura romana.',\n",
       "   'qtd_visitantes': 7400000},\n",
       "  {'nome': 'Fórum Romano',\n",
       "   'cidade': 'Roma',\n",
       "   'descricao': 'Um vasto complexo de edifícios públicos, templos e mercados no coração da antiga Roma.',\n",
       "   'qtd_visitantes': 4500000},\n",
       "  {'nome': 'Museus do Vaticano',\n",
       "   'cidade': 'Roma',\n",
       "   'descricao': 'Um grupo de museus e galerias de arte dentro da Cidade do Vaticano, incluindo a Capela Sistina.',\n",
       "   'qtd_visitantes': 6400000}]]"
      ]
     },
     "execution_count": 140,
     "metadata": {},
     "output_type": "execute_result"
    }
   ],
   "source": [
    "import json\n",
    "response_jsons = []\n",
    "\n",
    "for cidade, roteiro in config2[\"roteiro\"].items():\n",
    "    response = model.generate_content(roteiro[\"prompt\"])\n",
    "    parsed_json = json.loads(response.text.replace(\"```json\", \"\").replace(\"```\", \"\"))\n",
    "    response_jsons.append(parsed_json)\n",
    "    \n",
    "response_jsons"
   ]
  },
  {
   "cell_type": "code",
   "execution_count": 153,
   "metadata": {},
   "outputs": [
    {
     "data": {
      "text/html": [
       "<div>\n",
       "<style scoped>\n",
       "    .dataframe tbody tr th:only-of-type {\n",
       "        vertical-align: middle;\n",
       "    }\n",
       "\n",
       "    .dataframe tbody tr th {\n",
       "        vertical-align: top;\n",
       "    }\n",
       "\n",
       "    .dataframe thead th {\n",
       "        text-align: right;\n",
       "    }\n",
       "</style>\n",
       "<table border=\"1\" class=\"dataframe\">\n",
       "  <thead>\n",
       "    <tr style=\"text-align: right;\">\n",
       "      <th></th>\n",
       "      <th>nome</th>\n",
       "      <th>cidade</th>\n",
       "      <th>descricao</th>\n",
       "      <th>qtd_visitantes</th>\n",
       "    </tr>\n",
       "  </thead>\n",
       "  <tbody>\n",
       "    <tr>\n",
       "      <th>0</th>\n",
       "      <td>Acrópole de Atenas</td>\n",
       "      <td>Atenas</td>\n",
       "      <td>Um dos monumentos mais famosos do mundo, a Acr...</td>\n",
       "      <td>7000000</td>\n",
       "    </tr>\n",
       "    <tr>\n",
       "      <th>1</th>\n",
       "      <td>Partenon</td>\n",
       "      <td>Atenas</td>\n",
       "      <td>Um templo dórico dedicado à deusa Atena, o Par...</td>\n",
       "      <td>7000000</td>\n",
       "    </tr>\n",
       "    <tr>\n",
       "      <th>2</th>\n",
       "      <td>Museu da Acrópole</td>\n",
       "      <td>Atenas</td>\n",
       "      <td>O Museu da Acrópole abriga uma coleção de arte...</td>\n",
       "      <td>1500000</td>\n",
       "    </tr>\n",
       "    <tr>\n",
       "      <th>3</th>\n",
       "      <td>Coliseu</td>\n",
       "      <td>Roma</td>\n",
       "      <td>Um anfiteatro romano antigo, um dos maiores e ...</td>\n",
       "      <td>7400000</td>\n",
       "    </tr>\n",
       "    <tr>\n",
       "      <th>4</th>\n",
       "      <td>Fórum Romano</td>\n",
       "      <td>Roma</td>\n",
       "      <td>Um vasto complexo de edifícios públicos, templ...</td>\n",
       "      <td>4500000</td>\n",
       "    </tr>\n",
       "    <tr>\n",
       "      <th>5</th>\n",
       "      <td>Museus do Vaticano</td>\n",
       "      <td>Roma</td>\n",
       "      <td>Um grupo de museus e galerias de arte dentro d...</td>\n",
       "      <td>6400000</td>\n",
       "    </tr>\n",
       "  </tbody>\n",
       "</table>\n",
       "</div>"
      ],
      "text/plain": [
       "                 nome  cidade  \\\n",
       "0  Acrópole de Atenas  Atenas   \n",
       "1            Partenon  Atenas   \n",
       "2   Museu da Acrópole  Atenas   \n",
       "3             Coliseu    Roma   \n",
       "4        Fórum Romano    Roma   \n",
       "5  Museus do Vaticano    Roma   \n",
       "\n",
       "                                           descricao  qtd_visitantes  \n",
       "0  Um dos monumentos mais famosos do mundo, a Acr...         7000000  \n",
       "1  Um templo dórico dedicado à deusa Atena, o Par...         7000000  \n",
       "2  O Museu da Acrópole abriga uma coleção de arte...         1500000  \n",
       "3  Um anfiteatro romano antigo, um dos maiores e ...         7400000  \n",
       "4  Um vasto complexo de edifícios públicos, templ...         4500000  \n",
       "5  Um grupo de museus e galerias de arte dentro d...         6400000  "
      ]
     },
     "execution_count": 153,
     "metadata": {},
     "output_type": "execute_result"
    }
   ],
   "source": [
    "import pandas as pd\n",
    "\n",
    "flat_list = [item for sublist in response_jsons for item in sublist]\n",
    "\n",
    "df = pd.DataFrame(flat_list)\n",
    "\n",
    "df.head(6)"
   ]
  },
  {
   "cell_type": "code",
   "execution_count": 155,
   "metadata": {},
   "outputs": [
    {
     "data": {
      "image/png": "[encoded data removed]",
      "text/plain": [
       "<Figure size 1000x600 with 1 Axes>"
      ]
     },
     "metadata": {},
     "output_type": "display_data"
    }
   ],
   "source": [
    "import matplotlib.pyplot as plt\n",
    "from matplotlib.lines import Line2D\n",
    "\n",
    "colors = {'Atenas': 'blue', 'Roma': 'red'}\n",
    "\n",
    "plt.figure(figsize=(10, 6))\n",
    "bars = plt.barh(df['nome'], df['qtd_visitantes'], color=[colors[cidade] for cidade in df['cidade']])\n",
    "\n",
    "legend_elements = [Line2D([0], [0], color=color, lw=4, label=cidade) for cidade, color in colors.items()]\n",
    "plt.legend(handles=legend_elements, title=\"Cidade\")\n",
    "\n",
    "plt.xlabel('Quantidade de Visitantes')\n",
    "plt.ylabel('Pontos Turísticos')\n",
    "plt.title('Quantidade de Visitantes por Ponto Turístico')\n",
    "\n",
    "plt.show()"
   ]
  }
 ],
 "metadata": {
  "kernelspec": {
   "display_name": "Python 3",
   "language": "python",
   "name": "python3"
  },
  "language_info": {
   "codemirror_mode": {
    "name": "ipython",
    "version": 3
   },
   "file_extension": ".py",
   "mimetype": "text/x-python",
   "name": "python",
   "nbconvert_exporter": "python",
   "pygments_lexer": "ipython3",
   "version": "3.12.4"
  }
 },
 "nbformat": 4,
 "nbformat_minor": 2
}
